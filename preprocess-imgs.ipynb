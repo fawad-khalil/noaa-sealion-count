{
 "cells": [
  {
   "cell_type": "code",
   "execution_count": null,
   "metadata": {
    "collapsed": true
   },
   "outputs": [],
   "source": [
    "import numpy as np\n",
    "import cv2\n",
    "import matplotlib.pyplot as plt\n",
    "import skimage.feature\n",
    "%matplotlib inline"
   ]
  },
  {
   "cell_type": "code",
   "execution_count": null,
   "metadata": {
    "collapsed": true
   },
   "outputs": [],
   "source": [
    "def process_img(name):\n",
    "    labeled_img = cv2.imread('D:/ML work/NOAA Sea Lion count/Data/Semantics Segmentation/' + name + '.tif')\n",
    "    original_img = cv2.imread('D:/ML work/NOAA Sea Lion count/Data/Train/' + name + '.jpg')\n",
    "    dotted_img = cv2.imread('D:/ML work/NOAA Sea Lion count/Data/TrainDotted/' + name + '.jpg')\n",
    "    \n",
    "    diff_img = cv2.absdiff(labeled_img, original_img)\n",
    "    \n",
    "    mask_1 = cv2.cvtColor(diff_img, cv2.COLOR_BGR2GRAY)\n",
    "\n",
    "    mask_1[mask_1 < 20] = 0\n",
    "    mask_1[mask_1 > 0] = 255\n",
    "\n",
    "    #this image_4 contains only labels in the image\n",
    "    image_4 = cv2.bitwise_or(cv2.cvtColor(labeled_img, cv2.COLOR_BGR2RGB), cv2.cvtColor(labeled_img, cv2.COLOR_BGR2RGB), mask = mask_1)\n",
    "\n",
    "    redR, redG, redB = 255, 0, 0 #red should be preserved\n",
    "    brownR, brownG, brownB = 255, 255, 0 ##brown should be preserved\n",
    "    magentaR, magentaG, magentaB = 255, 0, 255 #magenta should be preserved\n",
    "    greenR, greenG, greenB = 0, 255, 0 #green should be preserved\n",
    "    blueR, blueG, blueB = 0, 5, 185 #blue should be preserved\n",
    "\n",
    "    red, green, blue = image_4[:, :, 0], image_4[:, :, 1], image_4[:, :, 2]\n",
    "    mask = ((red != redR) & (green != redG) & (blue != redB)) & ((red != brownR) & (green != brownG) & (blue != brownB)) & ((red != magentaR) & (green != magentaG) & (blue != magentaB)) & ((red != greenR) & (green != greenG) & (blue != greenB)) & ((red != blueR) & (green != blueG) & (blue != blueB))\n",
    "\n",
    "    image_4[:, :, :3][mask] = [0, 0, 0]\n",
    "\n",
    "#     fig = plt.figure(figsize = (30, 30))\n",
    "#     # fig.add_subplot(1,2,1)\n",
    "#     # plt.imshow(mask_1)\n",
    "\n",
    "#     # fig.add_subplot(1,2,2)\n",
    "#     plt.imshow(image_4)\n",
    "\n",
    "    cv2.imwrite('D:/ML work/NOAA Sea Lion count/Data/Semantics Segmentation/' + name + '-processed.tif', cv2.cvtColor(image_4, cv2.COLOR_BGR2RGB))"
   ]
  },
  {
   "cell_type": "code",
   "execution_count": null,
   "metadata": {
    "collapsed": true
   },
   "outputs": [],
   "source": [
    "training_imgs = [\"0\", \"1\", \"4\", \"5\", \"6\", \"8\", \"10\", \"11\", \"12\", \"13\"]\n",
    "\n",
    "for img in training_imgs:\n",
    "    process_img(img)"
   ]
  }
 ],
 "metadata": {
  "kernelspec": {
   "display_name": "Python 3",
   "language": "python",
   "name": "python3"
  },
  "language_info": {
   "codemirror_mode": {
    "name": "ipython",
    "version": 3
   },
   "file_extension": ".py",
   "mimetype": "text/x-python",
   "name": "python",
   "nbconvert_exporter": "python",
   "pygments_lexer": "ipython3",
   "version": "3.6.3"
  }
 },
 "nbformat": 4,
 "nbformat_minor": 2
}
